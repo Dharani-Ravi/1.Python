{
 "cells": [
  {
   "cell_type": "code",
   "execution_count": 1,
   "id": "6ee0975d-6bdd-4a84-84c9-6940e37590b2",
   "metadata": {},
   "outputs": [],
   "source": [
    "#print 'CORRECT' if i == 10"
   ]
  },
  {
   "cell_type": "code",
   "execution_count": 2,
   "id": "5b16747d-6f4d-431f-8c50-aa60c4d727e5",
   "metadata": {},
   "outputs": [
    {
     "name": "stdin",
     "output_type": "stream",
     "text": [
      "value: 11\n"
     ]
    },
    {
     "name": "stdout",
     "output_type": "stream",
     "text": [
      "WRONG\n"
     ]
    }
   ],
   "source": [
    "i=int(input(\"value:\"))\n",
    "if i == 10:\n",
    "    print(\"CORRECT\")\n",
    "else:\n",
    "    print(\"WRONG\")"
   ]
  },
  {
   "cell_type": "code",
   "execution_count": null,
   "id": "9b7c057c-4f6b-437f-814e-24fb60c224ce",
   "metadata": {},
   "outputs": [],
   "source": [
    "#Check the password, using if and else"
   ]
  },
  {
   "cell_type": "code",
   "execution_count": 12,
   "id": "f9ecf487-94f6-46d5-a43d-072516682c98",
   "metadata": {},
   "outputs": [
    {
     "name": "stdin",
     "output_type": "stream",
     "text": [
      "Enter the password: Hope@123\n"
     ]
    },
    {
     "name": "stdout",
     "output_type": "stream",
     "text": [
      "Your password is Correct\n"
     ]
    }
   ],
   "source": [
    "Password=input(\"Enter the password:\")\n",
    "if (Password==\"Hope@123\"):\n",
    "    print(\"Your password is Correct\")\n",
    "else:\n",
    "    print(\"Your Password is wrong\")"
   ]
  },
  {
   "cell_type": "code",
   "execution_count": 2,
   "id": "7b7e36d1-072c-4ba3-b62e-ec0de703236d",
   "metadata": {},
   "outputs": [],
   "source": [
    "#Catagory the people by their age like children, adult, citizen, senior citizen..."
   ]
  },
  {
   "cell_type": "code",
   "execution_count": 20,
   "id": "9bbfffab-17f1-4da8-919a-2aae64d03317",
   "metadata": {},
   "outputs": [
    {
     "name": "stdin",
     "output_type": "stream",
     "text": [
      "Enter the Age: 20\n"
     ]
    },
    {
     "name": "stdout",
     "output_type": "stream",
     "text": [
      "Adult\n"
     ]
    }
   ],
   "source": [
    "Age=int(input(\"Enter the Age:\"))\n",
    "if(Age<18):\n",
    "    print(\"Children\")\n",
    "elif(Age<40):\n",
    "    print(\"Adult\")\n",
    "elif(Age<70):\n",
    "    print(\"Citizen\")\n",
    "else:\n",
    "    print(\"Senior Citizen\")"
   ]
  },
  {
   "cell_type": "code",
   "execution_count": 3,
   "id": "72c1cc50-a7b3-4835-a291-c5247fa0fd0a",
   "metadata": {},
   "outputs": [],
   "source": [
    "#Find whether given number is positive or negative"
   ]
  },
  {
   "cell_type": "code",
   "execution_count": 26,
   "id": "706ba471-a7fe-4fd3-aae8-3813393ba8aa",
   "metadata": {},
   "outputs": [
    {
     "name": "stdin",
     "output_type": "stream",
     "text": [
      "Enter the Number 1\n"
     ]
    },
    {
     "name": "stdout",
     "output_type": "stream",
     "text": [
      "No is Positive\n"
     ]
    }
   ],
   "source": [
    "Number=float(input(\"Enter the Number\"))\n",
    "if(Number>0):\n",
    "    print(\"No is Positive\")\n",
    "else:\n",
    "    print(\"Negative\")"
   ]
  },
  {
   "cell_type": "code",
   "execution_count": null,
   "id": "45a3d638-d875-43e2-bbc2-6a3f1ee83d52",
   "metadata": {},
   "outputs": [],
   "source": [
    "#Check whether the given number is divisible by 5"
   ]
  },
  {
   "cell_type": "code",
   "execution_count": 28,
   "id": "5b8e191a-e3ff-4f28-8bca-dafb5ed7349a",
   "metadata": {},
   "outputs": [
    {
     "name": "stdin",
     "output_type": "stream",
     "text": [
      "Enter the Number to check:  25\n"
     ]
    },
    {
     "name": "stdout",
     "output_type": "stream",
     "text": [
      "No is divisible by 5\n"
     ]
    }
   ],
   "source": [
    "Number=int(input(\"Enter the Number to check: \"))\n",
    "if(Number%5==0):\n",
    "    print(\"No is divisible by 5\")\n",
    "else:\n",
    "    print(\"No is not divisible by 5\")"
   ]
  },
  {
   "cell_type": "code",
   "execution_count": null,
   "id": "e84f1a63-eb60-40b2-a5b3-0897c04c860f",
   "metadata": {},
   "outputs": [],
   "source": []
  }
 ],
 "metadata": {
  "kernelspec": {
   "display_name": "Python 3 (ipykernel)",
   "language": "python",
   "name": "python3"
  },
  "language_info": {
   "codemirror_mode": {
    "name": "ipython",
    "version": 3
   },
   "file_extension": ".py",
   "mimetype": "text/x-python",
   "name": "python",
   "nbconvert_exporter": "python",
   "pygments_lexer": "ipython3",
   "version": "3.12.7"
  }
 },
 "nbformat": 4,
 "nbformat_minor": 5
}

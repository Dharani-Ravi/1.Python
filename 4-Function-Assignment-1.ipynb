{
 "cells": [
  {
   "cell_type": "code",
   "execution_count": null,
   "id": "a1305687-595c-4f87-8bab-c3b6345f6bbd",
   "metadata": {},
   "outputs": [],
   "source": [
    "#Create function and list out the items in the list:"
   ]
  },
  {
   "cell_type": "code",
   "execution_count": 3,
   "id": "86dedb1b-230f-466a-91e7-9ccd5e42159e",
   "metadata": {},
   "outputs": [],
   "source": [
    "def Subfields():\n",
    "    print(\"Sub-fields in AI Are:\")\n",
    "    print(\"machine Learning\")\n",
    "    print(\"Neural Networks\")\n",
    "    print(\"Vision\")\n",
    "    print(\"robotics\")\n",
    "    print(\"Speech Processing\")\n",
    "    print(\"Natural Language Processing\")"
   ]
  },
  {
   "cell_type": "code",
   "execution_count": 4,
   "id": "62c4a32c-61ff-45b8-a374-99551fce71a9",
   "metadata": {},
   "outputs": [
    {
     "name": "stdout",
     "output_type": "stream",
     "text": [
      "Sub-fields in AI Are:\n",
      "machine Learning\n",
      "Neural Networks\n",
      "Vision\n",
      "robotics\n",
      "Speech Processing\n",
      "Natural Language Processing\n"
     ]
    }
   ],
   "source": [
    "Subfields()"
   ]
  },
  {
   "cell_type": "code",
   "execution_count": null,
   "id": "468019ff-cf9d-411d-9ec9-622c4ae69ae5",
   "metadata": {},
   "outputs": [],
   "source": [
    "#create a function to check odd or even"
   ]
  },
  {
   "cell_type": "code",
   "execution_count": 5,
   "id": "f96c2808-3f7b-4197-8398-d1852d26d299",
   "metadata": {},
   "outputs": [],
   "source": [
    "def OddEven():\n",
    "    num=int(input(\"Enter the number:\"))\n",
    "    if (num%2==0):\n",
    "            print(num,\"is Even Number\")\n",
    "    else:\n",
    "        print(num,\"is Odd Number\")"
   ]
  },
  {
   "cell_type": "code",
   "execution_count": 6,
   "id": "b34c229f-3e24-45a0-92d6-adbd8e357959",
   "metadata": {},
   "outputs": [
    {
     "name": "stdin",
     "output_type": "stream",
     "text": [
      "Enter the number: 52452\n"
     ]
    },
    {
     "name": "stdout",
     "output_type": "stream",
     "text": [
      "52452 is Even Number\n"
     ]
    }
   ],
   "source": [
    "OddEven()"
   ]
  },
  {
   "cell_type": "code",
   "execution_count": null,
   "id": "832ee0b7-1eb8-4547-bb69-f90fc864bb43",
   "metadata": {},
   "outputs": [],
   "source": [
    "#function to check eligibility of male and female"
   ]
  },
  {
   "cell_type": "code",
   "execution_count": 27,
   "id": "2c273e38-87f0-4765-b811-a689f8a131a9",
   "metadata": {},
   "outputs": [],
   "source": [
    "def eligible():\n",
    "    Gender=input(\"Your Gender:\")\n",
    "    Age=int(input(\"Your Age:\"))\n",
    "    if(Gender==\"Male\" and Age<=21):\n",
    "        print(\"Eligible\")\n",
    "    elif(Gender==\"Female\" and Age<=18):\n",
    "        print(\"Eligible\")\n",
    "    else:\n",
    "        print(\"Not Eligible\")\n",
    "        "
   ]
  },
  {
   "cell_type": "code",
   "execution_count": 28,
   "id": "172c6660-708d-4c03-9744-2caa54bcdbcf",
   "metadata": {},
   "outputs": [
    {
     "name": "stdin",
     "output_type": "stream",
     "text": [
      "Your Gender: male\n",
      "Your Age: 20\n"
     ]
    },
    {
     "name": "stdout",
     "output_type": "stream",
     "text": [
      "Not Eligible\n"
     ]
    }
   ],
   "source": [
    "eligible()"
   ]
  },
  {
   "cell_type": "code",
   "execution_count": 29,
   "id": "040a21f7-a6a8-4c05-9bea-0a86439889f5",
   "metadata": {},
   "outputs": [],
   "source": [
    "#calculate the percentage for 10th mark"
   ]
  },
  {
   "cell_type": "code",
   "execution_count": 3,
   "id": "70160cb8-f31b-4884-bf7a-dd900318624e",
   "metadata": {},
   "outputs": [],
   "source": [
    "def percentage():\n",
    "    Subject1=int(input(\"Subject1=\"))\n",
    "    Subject2=int(input(\"Subject2=\"))\n",
    "    Subject3=int(input(\"Subject3=\"))\n",
    "    Subject4=int(input(\"Subject4=\"))\n",
    "    Subject5=int(input(\"Subject5=\"))\n",
    "    Total=(Subject1+Subject2+Subject3+Subject4+Subject5)\n",
    "    Percentage=(Total/5)\n",
    "    print(\"Total:\",Total)\n",
    "    print(\"Percentage:\",Percentage)\n",
    "    "
   ]
  },
  {
   "cell_type": "code",
   "execution_count": 4,
   "id": "128fd55f-8066-4640-b48b-4662e5aacb11",
   "metadata": {},
   "outputs": [
    {
     "name": "stdin",
     "output_type": "stream",
     "text": [
      "Subject1= 98\n",
      "Subject2= 87\n",
      "Subject3= 95\n",
      "Subject4= 95\n",
      "Subject5= 93\n"
     ]
    },
    {
     "name": "stdout",
     "output_type": "stream",
     "text": [
      "Total: 468\n",
      "Percentage: 93.6\n"
     ]
    }
   ],
   "source": [
    "percentage()"
   ]
  },
  {
   "cell_type": "code",
   "execution_count": 32,
   "id": "4d2d36a5-f364-4c2b-8096-9881c7b5f049",
   "metadata": {},
   "outputs": [],
   "source": [
    "#print area and perimeter of a triangle using function"
   ]
  },
  {
   "cell_type": "code",
   "execution_count": 40,
   "id": "d4ddab78-547f-454d-89c5-8d45306ad25a",
   "metadata": {},
   "outputs": [],
   "source": [
    "def triangle():\n",
    "    Height=int(input(\"Height\"))\n",
    "    Breadth=int(input(\"Breadth\"))\n",
    "    Area=(Height*Breadth)/2\n",
    "    print(\"Area of triangle:\",Area)\n",
    "    Height1=int(input(\"Height1\"))\n",
    "    Height2=int(input(\"Height2\"))\n",
    "    Breadth=int(input(\"Breadth\"))\n",
    "    Perimeter=(Height1+Height2+Breadth)\n",
    "    print(\"Perimeter of Triangle:\",Perimeter)\n",
    "\n"
   ]
  },
  {
   "cell_type": "code",
   "execution_count": 41,
   "id": "0a892cce-1f4a-4357-b66b-0eeb52b804aa",
   "metadata": {},
   "outputs": [
    {
     "name": "stdin",
     "output_type": "stream",
     "text": [
      "Height 32\n",
      "Breadth 34\n"
     ]
    },
    {
     "name": "stdout",
     "output_type": "stream",
     "text": [
      "Area of triangle: 544.0\n"
     ]
    },
    {
     "name": "stdin",
     "output_type": "stream",
     "text": [
      "Height1 2\n",
      "Height2 4\n",
      "Breadth 4\n"
     ]
    },
    {
     "name": "stdout",
     "output_type": "stream",
     "text": [
      "Perimeter of Triangle: 10\n"
     ]
    }
   ],
   "source": [
    "triangle()"
   ]
  },
  {
   "cell_type": "code",
   "execution_count": null,
   "id": "2425a0ef-b737-40e4-a37d-e0c04e14c1d0",
   "metadata": {},
   "outputs": [],
   "source": []
  }
 ],
 "metadata": {
  "kernelspec": {
   "display_name": "Python 3 (ipykernel)",
   "language": "python",
   "name": "python3"
  },
  "language_info": {
   "codemirror_mode": {
    "name": "ipython",
    "version": 3
   },
   "file_extension": ".py",
   "mimetype": "text/x-python",
   "name": "python",
   "nbconvert_exporter": "python",
   "pygments_lexer": "ipython3",
   "version": "3.12.7"
  }
 },
 "nbformat": 4,
 "nbformat_minor": 5
}

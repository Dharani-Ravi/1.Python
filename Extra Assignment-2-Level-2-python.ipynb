{
 "cells": [
  {
   "cell_type": "code",
   "execution_count": 2,
   "id": "97b88f4b-f58d-4e78-b9a6-0ef8ad8863cc",
   "metadata": {},
   "outputs": [],
   "source": [
    "#print 0 to 20 by using range"
   ]
  },
  {
   "cell_type": "code",
   "execution_count": 1,
   "id": "8415da44-5994-4602-8421-7653bce55189",
   "metadata": {},
   "outputs": [
    {
     "name": "stdout",
     "output_type": "stream",
     "text": [
      "0\n",
      "1\n",
      "2\n",
      "3\n",
      "4\n",
      "5\n",
      "6\n",
      "7\n",
      "8\n",
      "9\n",
      "10\n",
      "11\n",
      "12\n",
      "13\n",
      "14\n",
      "15\n",
      "16\n",
      "17\n",
      "18\n",
      "19\n"
     ]
    }
   ],
   "source": [
    "for num in range(0,20):\n",
    "    print(num)"
   ]
  },
  {
   "cell_type": "code",
   "execution_count": 3,
   "id": "613c3544-735b-4ddf-8b4a-9cc1df2247c0",
   "metadata": {},
   "outputs": [],
   "source": [
    "#print range 10 to 20"
   ]
  },
  {
   "cell_type": "code",
   "execution_count": 10,
   "id": "0a60676c-7d60-45d5-8ce1-9541a7dec949",
   "metadata": {},
   "outputs": [
    {
     "name": "stdout",
     "output_type": "stream",
     "text": [
      "10 11 12 13 14 15 16 17 18 19 "
     ]
    }
   ],
   "source": [
    "for num in range(10,20):\n",
    "    print(num,end=\" \")"
   ]
  },
  {
   "cell_type": "code",
   "execution_count": null,
   "id": "6d1c45d6-3a9b-4a7a-98c1-b5866627afe1",
   "metadata": {},
   "outputs": [],
   "source": [
    "# Print number of items in the list by using 'len'"
   ]
  },
  {
   "cell_type": "code",
   "execution_count": 12,
   "id": "b03b3c10-1060-4878-92f1-fabf3b35dd79",
   "metadata": {},
   "outputs": [
    {
     "name": "stdout",
     "output_type": "stream",
     "text": [
      "Number of item in the List2: 7\n"
     ]
    }
   ],
   "source": [
    "lists=[10, 20, 14, 55, 43, 87, 76]\n",
    "print(\"Number of item in the List2:\",len(lists))"
   ]
  },
  {
   "cell_type": "code",
   "execution_count": 20,
   "id": "54f239b1-b689-4e1d-90e0-a941e40b274b",
   "metadata": {},
   "outputs": [
    {
     "name": "stdout",
     "output_type": "stream",
     "text": [
      "Artificial intelligence\n",
      "A\n",
      "r\n",
      "t\n",
      "i\n",
      "f\n",
      "i\n",
      "c\n",
      "i\n",
      "a\n",
      "l\n",
      " \n",
      "i\n",
      "n\n",
      "t\n",
      "e\n",
      "l\n",
      "l\n",
      "i\n",
      "g\n",
      "e\n",
      "n\n",
      "c\n",
      "e\n"
     ]
    }
   ],
   "source": [
    "char=\"Artificial intelligence\"\n",
    "print(char)\n",
    "for letters in char:\n",
    "    print(letters)"
   ]
  },
  {
   "cell_type": "code",
   "execution_count": null,
   "id": "571eca19-dd4a-4ff7-86a7-d25729dc1270",
   "metadata": {},
   "outputs": [],
   "source": []
  },
  {
   "cell_type": "code",
   "execution_count": 8,
   "id": "2fc671a6-c534-4f68-8945-79d0935b8734",
   "metadata": {},
   "outputs": [
    {
     "name": "stdout",
     "output_type": "stream",
     "text": [
      "-Your name-\n",
      "-Your Age-\n",
      "-Your Profession-\n"
     ]
    }
   ],
   "source": [
    "print(\"-Your name-\")\n",
    "print(\"-Your Age-\")\n",
    "print(\"-Your Profession-\")"
   ]
  },
  {
   "cell_type": "code",
   "execution_count": null,
   "id": "5a13cce1-67c2-4b95-83f0-6d20581cccf9",
   "metadata": {},
   "outputs": [],
   "source": [
    "#Print this mixered datatype using Tuples"
   ]
  },
  {
   "cell_type": "code",
   "execution_count": 14,
   "id": "8a932105-1a25-40b4-af6e-37d780281419",
   "metadata": {},
   "outputs": [
    {
     "name": "stdout",
     "output_type": "stream",
     "text": [
      "[1, 'welcome', 2, 'hope']\n"
     ]
    }
   ],
   "source": [
    "Set=(1,\"welcome\",2,\"hope\")\n",
    "print(Set)"
   ]
  },
  {
   "cell_type": "code",
   "execution_count": null,
   "id": "562a15db-9e4b-4614-a1e2-82dc836a26bd",
   "metadata": {},
   "outputs": [],
   "source": []
  },
  {
   "cell_type": "code",
   "execution_count": 28,
   "id": "ca0a80ab-e1eb-4867-ba92-a569a9379274",
   "metadata": {},
   "outputs": [
    {
     "name": "stdout",
     "output_type": "stream",
     "text": [
      "((0, 1, 2, 3), ('Python', 'Hope'))\n"
     ]
    }
   ],
   "source": [
    "Tup1=(0,1,2,3)\n",
    "Tup2=(\"Python\",\"Hope\")\n",
    "C=(Tup1,Tup2)\n",
    "print(C)"
   ]
  },
  {
   "cell_type": "code",
   "execution_count": null,
   "id": "b5fbe63d-b7a8-4815-80a6-d16c306015c3",
   "metadata": {},
   "outputs": [],
   "source": [
    "#print Odd Numbers in the list"
   ]
  },
  {
   "cell_type": "code",
   "execution_count": 1,
   "id": "a32d7377-97f7-4e85-9b6e-41102b5800f9",
   "metadata": {},
   "outputs": [
    {
     "name": "stdout",
     "output_type": "stream",
     "text": [
      "19 is odd\n",
      "25 is odd\n",
      "1 is odd\n"
     ]
    }
   ],
   "source": [
    "List=[20,10,16,19,25,1,276,188]\n",
    "for num in List:\n",
    "    if num%2!=0:\n",
    "        print(num,\"is odd\")\n",
    "    "
   ]
  },
  {
   "cell_type": "code",
   "execution_count": null,
   "id": "41b80f1b-2e87-45d6-af44-9cf94277fba7",
   "metadata": {},
   "outputs": [],
   "source": [
    "#print Even numbers in the list"
   ]
  },
  {
   "cell_type": "code",
   "execution_count": 3,
   "id": "336c249b-b384-40ff-a619-63411d79b859",
   "metadata": {},
   "outputs": [
    {
     "name": "stdout",
     "output_type": "stream",
     "text": [
      "20 is Even\n",
      "10 is Even\n",
      "16 is Even\n",
      "276 is Even\n",
      "188 is Even\n"
     ]
    }
   ],
   "source": [
    "List=[20,10,16,9,25,1,276,188]\n",
    "for num in List:\n",
    "    if num%2==0:\n",
    "        print(num,\"is Even\")"
   ]
  }
 ],
 "metadata": {
  "kernelspec": {
   "display_name": "Python 3 (ipykernel)",
   "language": "python",
   "name": "python3"
  },
  "language_info": {
   "codemirror_mode": {
    "name": "ipython",
    "version": 3
   },
   "file_extension": ".py",
   "mimetype": "text/x-python",
   "name": "python",
   "nbconvert_exporter": "python",
   "pygments_lexer": "ipython3",
   "version": "3.12.7"
  }
 },
 "nbformat": 4,
 "nbformat_minor": 5
}

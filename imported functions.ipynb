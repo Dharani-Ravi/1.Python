{
 "cells": [
  {
   "cell_type": "code",
   "execution_count": null,
   "id": "90f47342-7ea3-400d-906c-d824110b46bd",
   "metadata": {},
   "outputs": [],
   "source": [
    "from Multiplefunctions import MultipleFunctions"
   ]
  },
  {
   "cell_type": "code",
   "execution_count": 7,
   "id": "f0499501-02d6-4ca9-954d-3f7b754ccee3",
   "metadata": {},
   "outputs": [
    {
     "name": "stdin",
     "output_type": "stream",
     "text": [
      "Height 32\n",
      "Breadth 34\n"
     ]
    },
    {
     "name": "stdout",
     "output_type": "stream",
     "text": [
      "Area of triangle: 544.0\n"
     ]
    },
    {
     "name": "stdin",
     "output_type": "stream",
     "text": [
      "Height1 2\n",
      "Height2 4\n",
      "Breadth 4\n"
     ]
    },
    {
     "name": "stdout",
     "output_type": "stream",
     "text": [
      "Perimeter of Triangle: 10\n"
     ]
    }
   ],
   "source": [
    "MultipleFunctions.triangle()"
   ]
  },
  {
   "cell_type": "code",
   "execution_count": null,
   "id": "1c002933-26e9-4eb0-a6fc-bdc934c38519",
   "metadata": {},
   "outputs": [],
   "source": []
  }
 ],
 "metadata": {
  "kernelspec": {
   "display_name": "Python 3 (ipykernel)",
   "language": "python",
   "name": "python3"
  },
  "language_info": {
   "codemirror_mode": {
    "name": "ipython",
    "version": 3
   },
   "file_extension": ".py",
   "mimetype": "text/x-python",
   "name": "python",
   "nbconvert_exporter": "python",
   "pygments_lexer": "ipython3",
   "version": "3.12.7"
  }
 },
 "nbformat": 4,
 "nbformat_minor": 5
}

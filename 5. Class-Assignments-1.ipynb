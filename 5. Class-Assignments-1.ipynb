{
 "cells": [
  {
   "cell_type": "code",
   "execution_count": null,
   "id": "5001f058-8384-4dbd-b584-915b84d92a0b",
   "metadata": {},
   "outputs": [],
   "source": [
    "#List out the function in list using class and function"
   ]
  },
  {
   "cell_type": "code",
   "execution_count": 3,
   "id": "eade619d-5460-49ac-8714-199c96c59023",
   "metadata": {},
   "outputs": [],
   "source": [
    "class SubfieldsInAI():\n",
    "    def Subfields():\n",
    "        print(\"Sub-fields in AI Are:\")\n",
    "        print(\"machine Learning\")\n",
    "        print(\"Neural Networks\")\n",
    "        print(\"Vision\")\n",
    "        print(\"robotics\")\n",
    "        print(\"Speech Processing\")\n",
    "        print(\"Natural Language Processing\")"
   ]
  },
  {
   "cell_type": "code",
   "execution_count": 4,
   "id": "50b27f68-922f-4b0e-ac4d-7829fa799f09",
   "metadata": {},
   "outputs": [
    {
     "name": "stdout",
     "output_type": "stream",
     "text": [
      "Sub-fields in AI Are:\n",
      "machine Learning\n",
      "Neural Networks\n",
      "Vision\n",
      "robotics\n",
      "Speech Processing\n",
      "Natural Language Processing\n"
     ]
    }
   ],
   "source": [
    "SubfieldsInAI.Subfields()"
   ]
  },
  {
   "cell_type": "code",
   "execution_count": 5,
   "id": "117e8828-a446-4ea6-a3bf-84e9640372de",
   "metadata": {},
   "outputs": [],
   "source": [
    "#create a code to check odd or even using class & Function"
   ]
  },
  {
   "cell_type": "code",
   "execution_count": 6,
   "id": "ff8d0d0d-af63-4aab-9883-0a2b02c6ef68",
   "metadata": {},
   "outputs": [],
   "source": [
    "class OddEven():\n",
    "    def OddEven():\n",
    "        num=int(input(\"Enter the number:\"))\n",
    "        if (num%2==0):\n",
    "                print(num,\"is Even Number\")\n",
    "        else:\n",
    "            print(num,\"is Odd Number\")"
   ]
  },
  {
   "cell_type": "code",
   "execution_count": 7,
   "id": "dcf58d4a-9469-430d-968e-8f2234e8b142",
   "metadata": {},
   "outputs": [
    {
     "name": "stdin",
     "output_type": "stream",
     "text": [
      "Enter the number: 52452\n"
     ]
    },
    {
     "name": "stdout",
     "output_type": "stream",
     "text": [
      "52452 is Even Number\n"
     ]
    }
   ],
   "source": [
    "OddEven.OddEven()"
   ]
  },
  {
   "cell_type": "code",
   "execution_count": 8,
   "id": "134e3b95-74a6-48b4-bc13-a1c239acafc5",
   "metadata": {},
   "outputs": [],
   "source": [
    "#Create a function that tells elegibility of marriage for male and female according to their age limit like 21 for male and 18 for female"
   ]
  },
  {
   "cell_type": "code",
   "execution_count": 9,
   "id": "cfe7e4d2-8b0f-43dc-bbd4-b51215896144",
   "metadata": {},
   "outputs": [],
   "source": [
    "class EligibilityForMarriage():\n",
    "    def eligible():\n",
    "        Gender=input(\"Your Gender:\")\n",
    "        Age=int(input(\"Your Age:\"))\n",
    "        if(Gender==\"Male\" and Age<=21):\n",
    "            print(\"Eligible\")\n",
    "        elif(Gender==\"Female\" and Age<=18):\n",
    "            print(\"Eligible\")\n",
    "        else:\n",
    "            print(\"Not Eligible\")\n",
    "            "
   ]
  },
  {
   "cell_type": "code",
   "execution_count": 11,
   "id": "6b9f07c9-be4f-43f0-86ed-bab5f7073af6",
   "metadata": {},
   "outputs": [
    {
     "name": "stdin",
     "output_type": "stream",
     "text": [
      "Your Gender: mALE\n",
      "Your Age: 20\n"
     ]
    },
    {
     "name": "stdout",
     "output_type": "stream",
     "text": [
      "Not Eligible\n"
     ]
    }
   ],
   "source": [
    "EligibilityForMarriage.eligible()"
   ]
  },
  {
   "cell_type": "code",
   "execution_count": 12,
   "id": "01691ae7-3d4b-41df-91c1-765313492096",
   "metadata": {},
   "outputs": [],
   "source": [
    "#calculate the percentage of your 10th mark"
   ]
  },
  {
   "cell_type": "code",
   "execution_count": 13,
   "id": "62697832-76b7-4fde-a972-8b091c5b5560",
   "metadata": {},
   "outputs": [],
   "source": [
    "class FindPercentage():\n",
    "    def percentage():\n",
    "        Subject1=int(input(\"Subject1=\"))\n",
    "        Subject2=int(input(\"Subject2=\"))\n",
    "        Subject3=int(input(\"Subject3=\"))\n",
    "        Subject4=int(input(\"Subject4=\"))\n",
    "        Subject5=int(input(\"Subject5=\"))\n",
    "        Total=(Subject1+Subject2+Subject3+Subject4+Subject5)\n",
    "        Percentage=(Total/5)\n",
    "        print(\"Total:\",Total)\n",
    "        print(\"Percentage:\",Percentage)"
   ]
  },
  {
   "cell_type": "code",
   "execution_count": 14,
   "id": "456cec3b-6889-4562-919f-863542d39651",
   "metadata": {},
   "outputs": [
    {
     "name": "stdin",
     "output_type": "stream",
     "text": [
      "Subject1= 98\n",
      "Subject2= 87\n",
      "Subject3= 95\n",
      "Subject4= 95\n",
      "Subject5= 93\n"
     ]
    },
    {
     "name": "stdout",
     "output_type": "stream",
     "text": [
      "Total: 468\n",
      "Percentage: 93.6\n"
     ]
    }
   ],
   "source": [
    "FindPercentage.percentage()"
   ]
  },
  {
   "cell_type": "code",
   "execution_count": 15,
   "id": "8843ff6d-eafa-46b6-8520-e83c710d1e6b",
   "metadata": {},
   "outputs": [],
   "source": [
    "#print area and perimeter of triangle using class and functions"
   ]
  },
  {
   "cell_type": "code",
   "execution_count": 16,
   "id": "03a518b4-00d7-47cd-8fc6-b637ad8a7094",
   "metadata": {},
   "outputs": [],
   "source": [
    "class triangle():\n",
    "    def triangle():\n",
    "        Height=int(input(\"Height\"))\n",
    "        Breadth=int(input(\"Breadth\"))\n",
    "        Area=(Height*Breadth)/2\n",
    "        print(\"Area of triangle:\",Area)\n",
    "        Height1=int(input(\"Height1\"))\n",
    "        Height2=int(input(\"Height2\"))\n",
    "        Breadth=int(input(\"Breadth\"))\n",
    "        Perimeter=(Height1+Height2+Breadth)\n",
    "        print(\"Perimeter of Triangle:\",Perimeter)"
   ]
  },
  {
   "cell_type": "code",
   "execution_count": 18,
   "id": "8f37f1df-f29b-4b03-8426-8c31c40273b9",
   "metadata": {},
   "outputs": [
    {
     "name": "stdin",
     "output_type": "stream",
     "text": [
      "Height 32\n",
      "Breadth 34\n"
     ]
    },
    {
     "name": "stdout",
     "output_type": "stream",
     "text": [
      "Area of triangle: 544.0\n"
     ]
    },
    {
     "name": "stdin",
     "output_type": "stream",
     "text": [
      "Height1 2\n",
      "Height2 4\n",
      "Breadth 4\n"
     ]
    },
    {
     "name": "stdout",
     "output_type": "stream",
     "text": [
      "Perimeter of Triangle: 10\n"
     ]
    }
   ],
   "source": [
    "triangle.triangle()"
   ]
  },
  {
   "cell_type": "code",
   "execution_count": null,
   "id": "06710462-af15-4cbe-85b2-a9babe72b871",
   "metadata": {},
   "outputs": [],
   "source": []
  }
 ],
 "metadata": {
  "kernelspec": {
   "display_name": "Python 3 (ipykernel)",
   "language": "python",
   "name": "python3"
  },
  "language_info": {
   "codemirror_mode": {
    "name": "ipython",
    "version": 3
   },
   "file_extension": ".py",
   "mimetype": "text/x-python",
   "name": "python",
   "nbconvert_exporter": "python",
   "pygments_lexer": "ipython3",
   "version": "3.12.7"
  }
 },
 "nbformat": 4,
 "nbformat_minor": 5
}
